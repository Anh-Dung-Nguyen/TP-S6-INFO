{
 "cells": [
  {
   "cell_type": "code",
   "execution_count": 3,
   "metadata": {},
   "outputs": [],
   "source": [
    "import numpy as np\n",
    "import gzip\n",
    "import pickle\n",
    "from scipy.stats import rankdata\n",
    "import collections\n",
    "import matplotlib.pyplot as plt\n",
    "\n",
    "%matplotlib inline"
   ]
  },
  {
   "cell_type": "markdown",
   "metadata": {},
   "source": [
    "## 1. Classificateur de type k-NN et représentants moyens\n",
    "\n",
    "L'objectif de ce TP est d'implémenter des classificateurs de type k plus proches voisins ainsi qu'une variante que nous appelerons représentants moyens. C'est aussi l'occasion de se familiariser avec numpy.\n",
    "\n",
    "Nous utiliserons le jeu de données MNIST. L'objectif est de prédire le chiffre contenu sur une image (entre 0 et 9).\n",
    "\n",
    "Commencer par télécharger le jeu de données (\"mnist.pkl.gz\" sur le moodle)"
   ]
  },
  {
   "cell_type": "code",
   "execution_count": 4,
   "metadata": {},
   "outputs": [
    {
     "name": "stdout",
     "output_type": "stream",
     "text": [
      "Dimension de X_test et Y_test:\n",
      "(500, 784) (500,)\n"
     ]
    }
   ],
   "source": [
    "# vous pouvez modifier le chemin vers les données si vous les stocks autre part que dans le dossier courant\n",
    "f = gzip.open('./mnist.pkl.gz', 'rb')\n",
    "u = pickle._Unpickler(f)\n",
    "u.encoding = 'latin1'\n",
    "train_set, dev_set, test_set = u.load()\n",
    "\n",
    "X_train, Y_train = train_set\n",
    "X_dev, Y_dev = dev_set\n",
    "X_test, Y_test = test_set\n",
    "\n",
    "# On utilisera juste une sous-partie des données pour accéler les calculs\n",
    "X_train = X_train[:5000]\n",
    "Y_train = Y_train[:5000]\n",
    "X_test = X_test[:500]\n",
    "Y_test = Y_test[:500]\n",
    "X_dev = X_dev[:500]\n",
    "Y_dev = Y_dev[:500]\n",
    "\n",
    "print(\"Dimension de X_test et Y_test:\")\n",
    "print(X_test.shape, Y_test.shape)"
   ]
  },
  {
   "cell_type": "markdown",
   "metadata": {},
   "source": [
    "Le dataset est séparer en 3 parties :\n",
    "\n",
    "- X_train, Y_train: données d'entrainement\n",
    "- X_dev, Y_dev: données de développement/validation\n",
    "- X_test, Y_test: données d'évaluation\n",
    "\n",
    "Les matrices `X_` contiennent les images d'entrée : chaque ligne de la matrice correspond a une image qui a été linéarisé sous forme d'un vecteur.\n",
    "En d'autre terme, `X_train[0]` contient la première image des données d'entrainement. Si nous voulons l'afficher, il faut la redimenssioner, voir le code ci-dessous.\n",
    "\n",
    "Les vecteurs `Y_` contiennent les annotations de références sous forme d'entiers.\n",
    "Par exemple, `Y_train[0]` contient l'annotation pour la première image des données d'entrainement."
   ]
  },
  {
   "cell_type": "code",
   "execution_count": 5,
   "metadata": {},
   "outputs": [
    {
     "name": "stdout",
     "output_type": "stream",
     "text": [
      "First image contains a:  5\n"
     ]
    },
    {
     "data": {
      "text/plain": [
       "<matplotlib.image.AxesImage at 0x78983ca9c620>"
      ]
     },
     "execution_count": 5,
     "metadata": {},
     "output_type": "execute_result"
    },
    {
     "data": {
      "image/png": "[encoded data removed]",
      "text/plain": [
       "<Figure size 640x480 with 1 Axes>"
      ]
     },
     "metadata": {},
     "output_type": "display_data"
    }
   ],
   "source": [
    "# Affiche la 1ere image des données d'entrainement\n",
    "print(\"First image contains a: \", Y_train[0])\n",
    "plt.imshow(X_train[0].reshape(28, 28))"
   ]
  },
  {
   "cell_type": "code",
   "execution_count": 6,
   "metadata": {},
   "outputs": [
    {
     "name": "stdout",
     "output_type": "stream",
     "text": [
      "(784,) () 7\n"
     ]
    }
   ],
   "source": [
    "# on peut facilement récupérer une seule image\n",
    "\n",
    "x = X_test[0]\n",
    "y = Y_test[0]\n",
    "\n",
    "print(x.shape, y.shape, y)"
   ]
  },
  {
   "cell_type": "markdown",
   "metadata": {},
   "source": [
    "## 1.1. Classificateur plus proche voisin\n",
    "\n",
    "On commence par le classificateur le plus simple : pour prédire le chiffre sur une image, on cherche l'image la \"plus proche\" (en terme de distance euclidienne) dans les données d'entrainement. et on retourne le chiffre sur cette dernière. Ici, l'entrainement consiste simplement à enregistrer toutes les données d'entrainement.\n",
    "\n",
    "Pour cela on aura besoin:\n",
    "\n",
    "1. de savoir calculer la distance euclidienne entre deux vecteurs (i.e. 2 images)\n",
    "    - vous aurez besoin des fonction `np.sum` de numpy\n",
    "    - et de l'opérateur de puissance `**`, p. ex. `v ** 2` est le vecteur `v` dont toutes les valeurs ont été mises au carré\n",
    "    - Note: on peut prendre la distance euclidienne au carré, pas besoin d'appliquer la racine carré\n",
    "3. chercher l'image dans la proche en terme de cette distance\n",
    "    - on utilisateur ici la fonction `np.argmin`, dont l'utilisation est illustrée ci-dessous\n",
    "5. retourner l'étiquette associée à cette image"
   ]
  },
  {
   "cell_type": "code",
   "execution_count": 7,
   "metadata": {},
   "outputs": [
    {
     "name": "stdout",
     "output_type": "stream",
     "text": [
      "[0.87495966 0.0630447  0.28717241]\n",
      "1\n",
      "\n",
      "[[0.42973082 0.55742625 0.10544527]\n",
      " [0.87369751 0.40505091 0.56692942]]\n",
      "[2 1]\n"
     ]
    }
   ],
   "source": [
    "# examples d'utilisation de la fonction argmin\n",
    "\n",
    "w = np.random.rand(3)\n",
    "print(w)\n",
    "print(w.argmin())\n",
    "print()\n",
    "\n",
    "w = np.random.rand(2, 3)\n",
    "print(w)\n",
    "print(w.argmin(axis=1))"
   ]
  },
  {
   "cell_type": "code",
   "execution_count": 12,
   "metadata": {},
   "outputs": [],
   "source": [
    "class NNClassifier:\n",
    "    # dans le constructeur, on copie simplement les données d'entrainement\n",
    "    def __init__(self, X_train, Y_train):\n",
    "        self.X_train = X_train\n",
    "        self.Y_train = Y_train\n",
    "        \n",
    "    # prédit le chiffre sur l'image x\n",
    "    # en cherchant l'image la plus proche dans X_train\n",
    "    def predict(self, x):\n",
    "        assert len(x.shape) == 1\n",
    "        assert x.shape[0] == self.X_train.shape[1]\n",
    "\n",
    "        # TODO TODO TODO\n",
    "        # 1. construire le vecteurs 'distances'\n",
    "        #    tel que distance[i] soit la distance entre x et self.X_train[i]\n",
    "        # 2. chercher l'index de l'image la plus proche de x grâce à ce vecteur\n",
    "        # 3. retourner l'étiquette associé (les étiquettes sont dans le vecteur self.Y_train)\n",
    "        \n",
    "        # ....\n",
    "        distance = np.sum((self.X_train - x) ** 2, axis = 1)\n",
    "        plus_proche = np.argmin(distance)\n",
    "        return self.Y_train[plus_proche]\n",
    "    \n",
    "    # Calcul la précision du classificateur sur les données X, Y\n",
    "    def accuracy(self, X, Y):\n",
    "        assert len(X.shape) == 2\n",
    "        assert len(Y.shape) == 1\n",
    "        assert X.shape[1] == self.X_train.shape[1]\n",
    "        assert X.shape[0] == Y.shape[0]\n",
    "\n",
    "        # TODO TODO TODO\n",
    "        # Vous devez bouclez sur les données X,\n",
    "        # et comparer le résultat obtenu en appelan self.predict\n",
    "        # avec celui donné dans Y.\n",
    "        # vous devez ensuite return le % de prédictions correctes\n",
    "\n",
    "        # ....\n",
    "        correcte = 0\n",
    "        for i in range(X.shape[0]):\n",
    "            if self.predict(X[i]) == Y[i]:\n",
    "                correcte += 1\n",
    "        return correcte/X.shape[0]"
   ]
  },
  {
   "cell_type": "code",
   "execution_count": 13,
   "metadata": {},
   "outputs": [
    {
     "name": "stdout",
     "output_type": "stream",
     "text": [
      "0.906\n"
     ]
    }
   ],
   "source": [
    "# construit le classificateur et calcul la précision sur les données de test\n",
    "# Vous devez obtenir 0.906 :-)\n",
    "\n",
    "classifier = NNClassifier(X_train, Y_train)\n",
    "print(classifier.accuracy(X_test, Y_test))"
   ]
  },
  {
   "cell_type": "code",
   "execution_count": 14,
   "metadata": {},
   "outputs": [
    {
     "name": "stdout",
     "output_type": "stream",
     "text": [
      "1.0\n"
     ]
    }
   ],
   "source": [
    "# on peut aussi calculer la précision sur les données d'entrainement.\n",
    "# Vous devez obtenir 1.0 :-)\n",
    "\n",
    "print(classifier.accuracy(X_train[:500], Y_train[:500]))"
   ]
  },
  {
   "cell_type": "markdown",
   "metadata": {},
   "source": [
    "## 1.2. Classificateur k plus proches voisins\n",
    "\n",
    "Maintenant, plutôt que de prédire le chiffre sur l'image la plus proche dans les données d'entrainement, on va chercher les k images les plus proches et prédire le chiffre le plus présent dans celles ci.\n",
    "\n",
    "Pour cela, on utilisera la fonction kbest définie ci-dessous, qui retourne les indices d'un vecteur qui contient les k plus petites valeus."
   ]
  },
  {
   "cell_type": "code",
   "execution_count": 15,
   "metadata": {},
   "outputs": [],
   "source": [
    "def kbest(k, vector):\n",
    "    assert len(vector.shape) == 1\n",
    "\n",
    "    return np.argpartition(vector, k)[:k]"
   ]
  },
  {
   "cell_type": "code",
   "execution_count": 16,
   "metadata": {},
   "outputs": [
    {
     "name": "stdout",
     "output_type": "stream",
     "text": [
      "[0.85011707 0.81924883 0.68472504 0.86888131 0.45029246]\n",
      "\n",
      "[4]\n",
      "[4 2 1]\n"
     ]
    }
   ],
   "source": [
    "v = np.array([0.85011707, 0.81924883, 0.68472504, 0.86888131, 0.45029246])\n",
    "\n",
    "print(v)\n",
    "print()\n",
    "print(kbest(1, v))\n",
    "print(kbest(3, v))"
   ]
  },
  {
   "cell_type": "markdown",
   "metadata": {},
   "source": [
    "Pour calculer quelle est l'étiquette majoritaire, on peut utiliser un objet de type `Counter`,\n",
    "donc la documentation est disponible ici: https://docs.python.org/3/library/collections.html#collections.Counter\n",
    "\n",
    "La fonction ci-dessous retourne la valeur qui apparait le + de fois dans un vecteur d'entiers."
   ]
  },
  {
   "cell_type": "code",
   "execution_count": 17,
   "metadata": {},
   "outputs": [],
   "source": [
    "def most_common(vector):\n",
    "    assert len(vector.shape) == 1\n",
    "    \n",
    "    c = collections.Counter(vector)\n",
    "    return c.most_common(1)[0][0]"
   ]
  },
  {
   "cell_type": "code",
   "execution_count": 18,
   "metadata": {},
   "outputs": [
    {
     "name": "stdout",
     "output_type": "stream",
     "text": [
      "[1 1 3 4 4 3 1 4 2 3 3]\n",
      "3\n"
     ]
    }
   ],
   "source": [
    "v = np.array([1, 1, 3, 4, 4, 3, 1, 4, 2, 3, 3])\n",
    "\n",
    "print(v)\n",
    "print(most_common(v))"
   ]
  },
  {
   "cell_type": "code",
   "execution_count": 19,
   "metadata": {},
   "outputs": [],
   "source": [
    "class KNNClassifier:\n",
    "    # k: nombre de voisins à regarder\n",
    "    def __init__(self, k, X_train, Y_train):\n",
    "        self.k = k\n",
    "        self.X_train = X_train\n",
    "        self.Y_train = Y_train\n",
    "        \n",
    "    def predict(self, x):\n",
    "        assert len(x.shape) == 1\n",
    "        assert x.shape[0] == self.X_train.shape[1]\n",
    "\n",
    "        # TODO TODO TODO\n",
    "        # comme précédemment, mais il faudrait regarder\n",
    "        # l'étiquette la + présente parmis le k plus proches images\n",
    "        \n",
    "        # ....\n",
    "        distance = np.sum((self.X_train - x) ** 2, axis = 1)\n",
    "        pred = most_common(self.Y_train[kbest(k, distance)])\n",
    "        return pred\n",
    "    \n",
    "    def accuracy(self, X, Y):\n",
    "        assert len(X.shape) == 2\n",
    "        assert len(Y.shape) == 1\n",
    "        assert X.shape[1] == self.X_train.shape[1]\n",
    "        assert X.shape[0] == Y.shape[0]\n",
    "        \n",
    "        # TODO TODO TODO\n",
    "        # comme précédemment\n",
    "        \n",
    "        # ....\n",
    "        correct = 0\n",
    "        for i in range(X.shape[0]):\n",
    "            if self.predict(X[i]) == Y[i]:\n",
    "                correct += 1\n",
    "        return correct/X.shape[0]"
   ]
  },
  {
   "cell_type": "markdown",
   "metadata": {},
   "source": [
    "On va maintenant comparer les prédictions sur les données d'entrainement et les données d'évaluation pour plusieurs valeurs de k.\n",
    "\n",
    "Qu'observez vous ?"
   ]
  },
  {
   "cell_type": "code",
   "execution_count": 20,
   "metadata": {},
   "outputs": [
    {
     "name": "stdout",
     "output_type": "stream",
     "text": [
      "1\n",
      "Accuracy sur les données d'entrainement: 1.0\n",
      "Accuracy sur les données d'évaluation: 0.906\n",
      "\n",
      "2\n",
      "Accuracy sur les données d'entrainement: 1.0\n",
      "Accuracy sur les données d'évaluation: 0.906\n",
      "\n",
      "3\n",
      "Accuracy sur les données d'entrainement: 0.9778\n",
      "Accuracy sur les données d'évaluation: 0.924\n",
      "\n",
      "4\n",
      "Accuracy sur les données d'entrainement: 0.9782\n",
      "Accuracy sur les données d'évaluation: 0.918\n",
      "\n",
      "5\n",
      "Accuracy sur les données d'entrainement: 0.9664\n",
      "Accuracy sur les données d'évaluation: 0.912\n",
      "\n"
     ]
    }
   ],
   "source": [
    "for k in range(1, 6):\n",
    "    classifier = KNNClassifier(k, X_train, Y_train)\n",
    "    print(k)\n",
    "    print(\"Accuracy sur les données d'entrainement:\", classifier.accuracy(X_train, Y_train))\n",
    "    print(\"Accuracy sur les données d'évaluation:\", classifier.accuracy(X_test, Y_test))\n",
    "    print()"
   ]
  },
  {
   "cell_type": "markdown",
   "metadata": {},
   "source": [
    "## 1.3. Classificateur représentants moyens\n",
    "\n",
    "Dans ce dernier classificateur, nous calculons \"l'image moyenne\" de chaque classe et utilisons celle ci pour prédire le chiffre sur une nouvelle image.\n",
    "Cela permet de n'avoir que 10 images à retenir en mêmoire, plutôt que tout le jeu d'entrainement.\n",
    "\n",
    "Qu'observez vous expérimentalement?"
   ]
  },
  {
   "cell_type": "code",
   "execution_count": 21,
   "metadata": {},
   "outputs": [
    {
     "name": "stdout",
     "output_type": "stream",
     "text": [
      "[1.         5.         6.66666667]\n",
      "\n",
      "[1.         5.         6.66666667]\n"
     ]
    }
   ],
   "source": [
    "v1 = np.array([1., 0., 0.])\n",
    "v2 = np.array([1., 10., 10.])\n",
    "v3 = np.array([1., 5., 10.])\n",
    "\n",
    "# deux solutions parmis tant d'autres pour calculer la moyenne de v1, v2 et v3\n",
    "\n",
    "print((v1+v2+v3) / 3)\n",
    "print()\n",
    "\n",
    "v = v1\n",
    "v += v2\n",
    "v += v3\n",
    "print(v / 3)"
   ]
  },
  {
   "cell_type": "code",
   "execution_count": 28,
   "metadata": {},
   "outputs": [],
   "source": [
    "class MeanClassifier:\n",
    "    def __init__(self, n_classes, X_train, Y_train):\n",
    "        # matrice qui contiendra le représentant de chaque classe,\n",
    "        # c'est à dire que self.mean[i] doit être le vecteur moyen de toutes les images étiquetées i dans X_train\n",
    "        self.mean = np.zeros((n_classes, X_train.shape[1]))\n",
    "        \n",
    "        # TODO TODO TODO\n",
    "        # Calculer le représentant de chaque classe,\n",
    "        # c'est-à-dire compléter la matric self.mean\n",
    "        \n",
    "        # ....\n",
    "        for c in range(n_classes):\n",
    "            vecs = X_train[Y_train == c]\n",
    "            self.mean[c] = np.mean(vecs, axis = 0)\n",
    "        \n",
    "    def predict(self, x):\n",
    "        assert len(x.shape) == 1\n",
    "\n",
    "        # TODO TODO TODO\n",
    "        # chercher le représentant le plus proche et retourner l'étiquette correspondante\n",
    "        \n",
    "        # ....\n",
    "        distance = np.sum((self.mean - x) ** 2, axis = 1)\n",
    "        plus_proche = np.argmin(distance)\n",
    "        return plus_proche\n",
    "    \n",
    "    def accuracy(self, X, Y):\n",
    "        assert len(X.shape) == 2\n",
    "        assert len(Y.shape) == 1\n",
    "        assert X.shape[1] == self.mean.shape[1]\n",
    "        assert X.shape[0] == Y.shape[0]\n",
    "        \n",
    "        # TODO TODO TODO\n",
    "        # Comme précédemment\n",
    "        \n",
    "        # ....\n",
    "        correct = 0\n",
    "        for i in range(X.shape[0]):\n",
    "            if self.predict(X[i]) == Y[i]:\n",
    "                correct += 1\n",
    "        return correct/X.shape[0]"
   ]
  },
  {
   "cell_type": "code",
   "execution_count": 29,
   "metadata": {},
   "outputs": [
    {
     "name": "stdout",
     "output_type": "stream",
     "text": [
      "Accuracy sur les données d'entrainement: 0.8132\n",
      "Accuracy sur les données d'évaluation: 0.778\n"
     ]
    }
   ],
   "source": [
    "classifier = MeanClassifier(10, X_train, Y_train)\n",
    "print(\"Accuracy sur les données d'entrainement:\", classifier.accuracy(X_train, Y_train))\n",
    "print(\"Accuracy sur les données d'évaluation:\", classifier.accuracy(X_test, Y_test))"
   ]
  },
  {
   "cell_type": "markdown",
   "metadata": {},
   "source": [
    "# 2. Régression avec un modèle k plus proches voisins\n",
    "\n",
    "Dans cette dernière partie, nous nous intéressons à un modèle de prédiction.\n",
    "Dans ce cas, lorsque vous récupérez les k plus proches voisins, la prédiction est la moyenne de leur étiquette (plutôt que l'étiquette majoritaire comme pour la classification).\n",
    "\n",
    "Nous utilisons pour ça un jeu de donné dont les entrées sont des vitesses d'un véhicule et la sortie la distance nécessaire pour le freinage."
   ]
  },
  {
   "cell_type": "code",
   "execution_count": 30,
   "metadata": {},
   "outputs": [
    {
     "data": {
      "text/plain": [
       "((50, 1), (50,))"
      ]
     },
     "execution_count": 30,
     "metadata": {},
     "output_type": "execute_result"
    }
   ],
   "source": [
    "# lecture des données\n",
    "def read_speed_and_dist(path):\n",
    "    x = list()\n",
    "    y = list()\n",
    "    with open(path) as instream:\n",
    "        next(instream)\n",
    "        for line in instream:\n",
    "            line = line.strip()\n",
    "            if len(line) > 0:\n",
    "                line = line.split(\",\")\n",
    "                x.append(float(line[1]))\n",
    "                y.append(float(line[2]))\n",
    "    ret_X = np.array(x).reshape(len(x), 1)\n",
    "    ret_y = np.array(y)\n",
    "    \n",
    "    return ret_X, ret_y\n",
    "\n",
    "X, y = read_speed_and_dist(\"Speed_and_Stopping_Distances_of_Cars_357_90.csv\")\n",
    "X.shape, y.shape"
   ]
  },
  {
   "cell_type": "code",
   "execution_count": 31,
   "metadata": {},
   "outputs": [
    {
     "data": {
      "text/plain": [
       "<matplotlib.collections.PathCollection at 0x7897ec511940>"
      ]
     },
     "execution_count": 31,
     "metadata": {},
     "output_type": "execute_result"
    },
    {
     "data": {
      "image/png": "[encoded data removed]",
      "text/plain": [
       "<Figure size 640x480 with 1 Axes>"
      ]
     },
     "metadata": {},
     "output_type": "display_data"
    }
   ],
   "source": [
    "# on peut afficher les données.\n",
    "# les entrées sont en dimension 1 (axe horizontal),\n",
    "# et les sorties sont données sur l'axe vertical.\n",
    "plt.scatter(X[:, 0], y)"
   ]
  },
  {
   "cell_type": "code",
   "execution_count": 32,
   "metadata": {},
   "outputs": [],
   "source": [
    "class KNNRegression:\n",
    "    # k: nombre de voisins à regarder\n",
    "    def __init__(self, k, X_train, Y_train):\n",
    "        self.k = k\n",
    "        self.X_train = X_train\n",
    "        self.Y_train = Y_train\n",
    "        \n",
    "    def predict(self, x):\n",
    "        assert len(x.shape) == 1\n",
    "        assert x.shape[0] == self.X_train.shape[1]\n",
    "\n",
    "        # TODO TODO TODO\n",
    "        \n",
    "        # ....\n",
    "        distance = np.sum((self.X_train - x) ** 2, axis = 1)\n",
    "        plus_proche = kbest(k, distance)\n",
    "        return np.mean(self.Y_train[plus_proche])\n",
    "    "
   ]
  },
  {
   "cell_type": "markdown",
   "metadata": {},
   "source": [
    "On affiche sur un graphe la comparaison entre les données d'entrainement (sous forme de points)\n",
    "et le prédiction du modèle en fonction de la vitesse.\n",
    "\n",
    "Qu'observez vous ? Obtendrais-t-on le même genre de prédiction avec un modèle linéaire ?"
   ]
  },
  {
   "cell_type": "code",
   "execution_count": 33,
   "metadata": {},
   "outputs": [
    {
     "data": {
      "text/plain": [
       "[<matplotlib.lines.Line2D at 0x7897ea3e99d0>]"
      ]
     },
     "execution_count": 33,
     "metadata": {},
     "output_type": "execute_result"
    },
    {
     "data": {
      "image/png": "[encoded data removed]",
      "text/plain": [
       "<Figure size 640x480 with 1 Axes>"
      ]
     },
     "metadata": {},
     "output_type": "display_data"
    }
   ],
   "source": [
    "model = KNNRegression(2, X, y)\n",
    "xs = np.linspace(0, 25, 100)\n",
    "y_pred = [model.predict(np.array([x])) for x in xs]\n",
    "\n",
    "plt.scatter(X[:, 0], y)\n",
    "plt.plot(xs, y_pred)\n"
   ]
  },
  {
   "cell_type": "code",
   "execution_count": null,
   "metadata": {},
   "outputs": [],
   "source": []
  }
 ],
 "metadata": {
  "kernelspec": {
   "display_name": "Python 3 (ipykernel)",
   "language": "python",
   "name": "python3"
  },
  "language_info": {
   "codemirror_mode": {
    "name": "ipython",
    "version": 3
   },
   "file_extension": ".py",
   "mimetype": "text/x-python",
   "name": "python",
   "nbconvert_exporter": "python",
   "pygments_lexer": "ipython3",
   "version": "3.12.3"
  }
 },
 "nbformat": 4,
 "nbformat_minor": 4
}
